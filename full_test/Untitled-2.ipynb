{
 "cells": [
  {
   "cell_type": "code",
   "execution_count": 1,
   "metadata": {},
   "outputs": [
    {
     "name": "stdout",
     "output_type": "stream",
     "text": [
      "Character at position 5631: a\n"
     ]
    }
   ],
   "source": [
    "def find_position_in_file(file_path, position):\n",
    "    with open(file_path, 'r', encoding='utf-8') as file:\n",
    "        content = file.read()\n",
    "        if position < len(content):\n",
    "            print(f\"Character at position {position}: {content[position]}\")\n",
    "        else:\n",
    "            print(f\"Position {position} is out of range. The file length is {len(content)}.\")\n",
    "\n",
    "file_path = 'oop_test_all.jsonl'\n",
    "position = 5631\n",
    "find_position_in_file(file_path, position)"
   ]
  },
  {
   "cell_type": "code",
   "execution_count": 3,
   "metadata": {},
   "outputs": [
    {
     "name": "stdout",
     "output_type": "stream",
     "text": [
      "class PLDR:\n",
      "    def __init__(self, number):\n",
      "        self.number = number\n",
      "\n",
      "    def PLind(self):\n",
      "        str_number = str(self.number)\n",
      "        return str_number == str_number[::-1]\n",
      "\n",
      "class SUBPLDR(PLDR):\n",
      "    def PLind(self):\n",
      "        str_number = str(self.number)\n",
      "        return str_number == str_number[::-1] and str_number.isdigit()\n"
     ]
    }
   ],
   "source": [
    "a = \"class PLDR:\\n    def __init__(self, number):\\n        self.number = number\\n\\n    def PLind(self):\\n        str_number = str(self.number)\\n        return str_number == str_number[::-1]\\n\\nclass SUBPLDR(PLDR):\\n    def PLind(self):\\n        str_number = str(self.number)\\n        return str_number == str_number[::-1] and str_number.isdigit()\"\n",
    "print(a)"
   ]
  },
  {
   "cell_type": "code",
   "execution_count": 4,
   "metadata": {},
   "outputs": [
    {
     "name": "stdout",
     "output_type": "stream",
     "text": [
      "class VDPT:\n",
      "    def valid_parentheses(self, n):\n",
      "        def generate(p, left, right):\n",
      "            if left == 0 and right == 0:\n",
      "                result.append(p)\n",
      "                return\n",
      "            if left > 0:\n",
      "                generate(p + '(', left - 1, right)\n",
      "            if right > left:\n",
      "                generate(p + ')', left, right - 1)\n",
      "\n",
      "        result = []\n",
      "        generate('', n, n)\n",
      "        for combination in result:\n",
      "            print(combination)\n"
     ]
    }
   ],
   "source": [
    "b = \"class VDPT:\\n    def valid_parentheses(self, n):\\n        def generate(p, left, right):\\n            if left == 0 and right == 0:\\n                result.append(p)\\n                return\\n            if left > 0:\\n                generate(p + '(', left - 1, right)\\n            if right > left:\\n                generate(p + ')', left, right - 1)\\n\\n        result = []\\n        generate('', n, n)\\n        for combination in result:\\n            print(combination)\"\n",
    "print(b)"
   ]
  },
  {
   "cell_type": "code",
   "execution_count": 5,
   "metadata": {},
   "outputs": [
    {
     "name": "stdout",
     "output_type": "stream",
     "text": [
      "class WDS:\n",
      "    def without_duplicates(self, s: str) -> int:\n",
      "        char_set = set()\n",
      "        left = 0\n",
      "        max_length = 0\n",
      "        \n",
      "        for right in range(len(s)):\n",
      "            while s[right] in char_set:\n",
      "                char_set.remove(s[left])\n",
      "                left += 1\n",
      "            char_set.add(s[right])\n",
      "            max_length = max(max_length, right - left + 1)\n",
      "        \n",
      "        return max_length\n"
     ]
    }
   ],
   "source": [
    "c = \"class WDS:\\n    def without_duplicates(self, s: str) -> int:\\n        char_set = set()\\n        left = 0\\n        max_length = 0\\n        \\n        for right in range(len(s)):\\n            while s[right] in char_set:\\n                char_set.remove(s[left])\\n                left += 1\\n            char_set.add(s[right])\\n            max_length = max(max_length, right - left + 1)\\n        \\n        return max_length\"\n",
    "print(c)"
   ]
  }
 ],
 "metadata": {
  "kernelspec": {
   "display_name": "oop-eval",
   "language": "python",
   "name": "python3"
  },
  "language_info": {
   "codemirror_mode": {
    "name": "ipython",
    "version": 3
   },
   "file_extension": ".py",
   "mimetype": "text/x-python",
   "name": "python",
   "nbconvert_exporter": "python",
   "pygments_lexer": "ipython3",
   "version": "3.8.20"
  }
 },
 "nbformat": 4,
 "nbformat_minor": 2
}
